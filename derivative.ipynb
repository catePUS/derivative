{
 "cells": [
  {
   "cell_type": "code",
   "execution_count": null,
   "metadata": {},
   "outputs": [],
   "source": [
    "f(x,y)=2*x**2*y**3 + 1/x + y**2*x + 7\n",
    "f(x,y)=x**2*y - sin(x*y) + cos(x**2) + 6*y"
   ]
  },
  {
   "cell_type": "code",
   "execution_count": 29,
   "metadata": {},
   "outputs": [
    {
     "name": "stdout",
     "output_type": "stream",
     "text": [
      "производная по x 4*x*y**3 + y**2 - 1/x**2\n",
      "производная по y 6*x**2*y**2 + 2*x*y\n"
     ]
    }
   ],
   "source": [
    "from sympy import *\n",
    "x,y = symbols('x y')\n",
    "\n",
    "der_x=diff(2*x**2*y**3 + 1/x + y**2*x + 7,x)\n",
    "der_y=diff(2*x**2*y**3 + 1/x + y**2*x + 7,y)\n",
    "print(\"производная по x {}\".format(der_x))\n",
    "print(\"производная по y {}\".format(der_y))"
   ]
  },
  {
   "cell_type": "code",
   "execution_count": 30,
   "metadata": {},
   "outputs": [
    {
     "name": "stdout",
     "output_type": "stream",
     "text": [
      "производная по x 2*x*y - 2*x*sin(x**2) - y*cos(x*y)\n",
      "производная по y x**2 - x*cos(x*y) + 6\n"
     ]
    }
   ],
   "source": [
    "import sympy\n",
    "from sympy import * \n",
    "x,y = symbols('x y')\n",
    "\n",
    "der_x=diff(x**2*y - sin(x*y) + cos(x**2) + 6*y, x)\n",
    "der_y=diff(x**2*y - sin(x*y) + cos(x**2) + 6*y, y)\n",
    "print(\"производная по x {}\".format(der_x))\n",
    "print(\"производная по y {}\".format(der_y))"
   ]
  },
  {
   "cell_type": "code",
   "execution_count": 34,
   "metadata": {},
   "outputs": [
    {
     "data": {
      "text/plain": [
       "array([35.00000024, 28.00000024])"
      ]
     },
     "execution_count": 34,
     "metadata": {},
     "output_type": "execute_result"
    }
   ],
   "source": [
    "from scipy import optimize\n",
    "import numpy as np\n",
    "def func(x):\n",
    "    return 2*x[0]**2*x[1]**3 + 1/x[0] + x[1]**2*x[0] + 7\n",
    "a=np.array([1,2])\n",
    "eps = np.sqrt(np.finfo(float).eps)\n",
    "optimize.approx_fprime(a, func, [eps, eps])\n"
   ]
  },
  {
   "cell_type": "code",
   "execution_count": null,
   "metadata": {},
   "outputs": [],
   "source": []
  }
 ],
 "metadata": {
  "kernelspec": {
   "display_name": "Python 3",
   "language": "python",
   "name": "python3"
  },
  "language_info": {
   "codemirror_mode": {
    "name": "ipython",
    "version": 3
   },
   "file_extension": ".py",
   "mimetype": "text/x-python",
   "name": "python",
   "nbconvert_exporter": "python",
   "pygments_lexer": "ipython3",
   "version": "3.8.5"
  }
 },
 "nbformat": 4,
 "nbformat_minor": 4
}
